{
 "cells": [
  {
   "cell_type": "markdown",
   "metadata": {
    "pycharm": {
     "name": "#%% md\n"
    }
   },
   "source": [
    "# Workbook 2: Depth and Breadth-First Search\n",
    "## Aims of this practical workbook\n",
    "1. To build your python skills and confidence with using and adapting other people's code\n",
    "   -  we provide an implementation of the pseudocode from the lectures.\n",
    "2. To give you experience **implementing** and **testing** depth and breadth first search\n",
    "  - within a common code framework that we provide\n",
    "  - testing on the combination lock problem you used last week\n",
    "3. To give you hands-on experience of **extending**  algorithms to different contexts\n",
    "  - in this case, adapting depth-first search to try and make it work for the fox-chicken-grain problem"
   ]
  },
  {
   "cell_type": "markdown",
   "metadata": {
    "pycharm": {
     "name": "#%% md\n"
    }
   },
   "source": [
    "# Part 1: Implementing Depth and Breadth-First Search"
   ]
  },
  {
   "cell_type": "markdown",
   "metadata": {
    "pycharm": {
     "name": "#%% md\n"
    }
   },
   "source": [
    "## Recap\n",
    "### Pseudo-code for generic single member search\n",
    "<div style=\"font-size:1em\"> \n",
    "    <p style=\"font-size:1em\"> \n",
    "    <b>Variables</b> open_list, closed_list: lists of candidate solutions <br>\n",
    "    <b>Variables</b> working_candidate,neighbour: candidate solutions <br>\n",
    "    </p>\n",
    "<div style=\"background:#E0FFE0\">\n",
    "<dl style=\"font-size:1em\">\n",
    "    <dt>    <span style=\"color:darkred;font-size:1em\"> <em>INITIALISE</em></span></dt>\n",
    "    <dd>   <b>Set</b> open_list, closed_list &larr; EmptyList </dd>  \n",
    "    <dd>   working_candidate &larr; <b>Initialise</b> (CandidateSolution) </dd> \n",
    "    <dd>   <b>Test</b> ( working_candidate)  &nbsp;&nbsp;&nbsp;&nbsp;&nbsp;&nbsp;<span style=\"color:red\"> <b>Problem</b>-specific code</span></dd>\n",
    "    <dd>   <b>AppendToOpenList</b>(working_candidate)<br>  </dd>\n",
    "</dl>\n",
    "    </div>\n",
    "</div>\n",
    "<div style=\"background:#F0FFFF;font-size:1em\">\n",
    "<p style=\"color:darkred;font-size:1em;margin-bottom:0pt\"><em>MAIN LOOP</em></p>\n",
    "<dl style=\"font-size:1em;margin-top:0pt\">\n",
    "    <dt>&nbsp;&nbsp;&nbsp;<b>WHILE</b> IsNotEmpty( open_list) <b>DO</b> </dt>\n",
    "    <dd> working_candidate &larr; <b>SelectAndMoveFromOpenList</b>(algorithm_name)&nbsp;&nbsp;&nbsp;&nbsp;&nbsp;&nbsp;<span style=\"color:red\"> <b>Algorithm</b>-specific code</span></dd>\n",
    "    <dd>  <b>FOR</b> sample in SAMPLE_SIZE <b>DO</b> <br>\n",
    "        <dl style=\"font-size:1em\">\n",
    "            <dt style=\"color:blue;font-style:italic\"> &nbsp;&nbsp;&nbsp;&nbsp;&nbsp;&nbsp;GENERATE </dt>\n",
    "            <dd>  neighbour &larr; <b>ApplyMoveOperator</b> (working_candidate)&nbsp;&nbsp;&nbsp;&nbsp;&nbsp;&nbsp;<span style=\"color:red\"> <b>Representation</b>-specific code</span></dd>\n",
    "            <dt style=\"color:blue;font-style:italic\">&nbsp;&nbsp;&nbsp;&nbsp;&nbsp;&nbsp;TEST</dt>\n",
    "            <dd> status &larr; <b>Test</b> ( neighbour)&nbsp;&nbsp;&nbsp;&nbsp;&nbsp;&nbsp;<span style=\"color:red\"> <b>Problem</b>-specific code</span></dd>\n",
    "            <dt style=\"color:blue;font-style:italic\"> &nbsp;&nbsp;&nbsp;&nbsp;&nbsp;&nbsp;UPDATE WORKING MEMORY</dt> \n",
    "            <dd> <b>IF</b> status IS AtGoal <b>THEN</b><br>\n",
    "                    &nbsp;&nbsp;&nbsp; <b>Return</b>(SUCCESS)</dd>\n",
    "            <dd> <b>ELSE IF</b> status IS BREAKS_CONSTRAINTS <b>THEN</b><br>\n",
    "                &nbsp;&nbsp;&nbsp; <b>AppendToClosedList</b>(neighbour)</dd>\n",
    "            <dd><b>ELSE</b><br>\n",
    "                &nbsp;&nbsp;&nbsp; <b>AppendToOpenList</b>(neighbour)</dd>\n",
    "        </dl>\n",
    "    <dd>          <b>AppendToClosedList</b>(workingCandidate)</dd>\n",
    "</dl>\n",
    "</div>    "
   ]
  },
  {
   "cell_type": "markdown",
   "metadata": {
    "pycharm": {
     "name": "#%% md\n"
    },
    "tags": []
   },
   "source": [
    "<div class = \"alert alert-warning\" style=\"color:black\">\n",
    "    <h2> Activity 1: Implementing depth-first search.</h2>\n",
    "    <ol>\n",
    "        <li> Make sure you understand the design of a generic search method\n",
    "          described in the pseudo-code above</li>\n",
    "        <li>Read the  code <b>implementation</b> in the file singlemembersearch.py.<br>\n",
    "            Make sure you understand what the code is doing. <br>\n",
    "            Your tutors will walk you through the code if that is helpful</li>\n",
    "        <li> Answer the three multiple-choice questions below to check your understanding of the code.</li>\n",
    "        <li> Complete the first code cell below to create a class <b>DepthFirstSearch</b>\n",
    "            that implements the pseudo-code provided<ul>\n",
    "            <li>Start by copying the pseudo-code into the method as comments.</li>\n",
    "            <li>Then insert one or two lines of code to implement each comment</li>\n",
    "        </ul>\n",
    "        </li> \n",
    "        <li> Run the second code cell below to test that your code works as expected .<br>\n",
    "            We are  using it solve different instances  of the combination problem.<br>\n",
    "            In each case we know how many guesses it <em>should</em> take.\n",
    "            <ul> \n",
    "                <li>The first three come from simple reasoning about the desired behaviour. <br>\n",
    "                    This is the best form of testing.</li>\n",
    "                <li> The last two are results from my <em>reference implementation.</em> <br>\n",
    "                    This form of testing is common if we are rewriting code that already exists in another language or framework.</li>\n",
    "            </ul>\n",
    "    </ol>\n",
    "</div>"
   ]
  },
  {
   "cell_type": "code",
   "execution_count": 1,
   "metadata": {
    "ExecuteTime": {
     "end_time": "2024-03-19T01:58:37.187220100Z",
     "start_time": "2024-03-19T01:58:37.166288400Z"
    },
    "pycharm": {
     "name": "#%%\n"
    },
    "scrolled": true,
    "tags": []
   },
   "outputs": [
    {
     "ename": "SyntaxError",
     "evalue": "invalid syntax (workbook2_utils.py, line 142)",
     "output_type": "error",
     "traceback": [
      "Traceback \u001b[1;36m(most recent call last)\u001b[0m:\n",
      "\u001b[0m  File \u001b[0;32m~\\ai_env\\Lib\\site-packages\\IPython\\core\\interactiveshell.py:3577\u001b[0m in \u001b[0;35mrun_code\u001b[0m\n    exec(code_obj, self.user_global_ns, self.user_ns)\u001b[0m\n",
      "\u001b[1;36m  Cell \u001b[1;32mIn[1], line 2\u001b[1;36m\n\u001b[1;33m    import workbook2_utils as wb2\u001b[1;36m\n",
      "\u001b[1;36m  File \u001b[1;32mD:\\AI-Course\\ai_01\\Learning_Materials\\week_2\\workbook2_utils.py:142\u001b[1;36m\u001b[0m\n\u001b[1;33m    q11 text = (\u001b[0m\n\u001b[1;37m        ^\u001b[0m\n\u001b[1;31mSyntaxError\u001b[0m\u001b[1;31m:\u001b[0m invalid syntax\n"
     ]
    }
   ],
   "source": [
    "# run this cell to display the multiple choice questions\n",
    "import workbook2_utils as wb2\n",
    "\n",
    "display(wb2.q0)\n",
    "display(wb2.q1)\n",
    "display(wb2.q2)"
   ]
  },
  {
   "cell_type": "markdown",
   "metadata": {
    "pycharm": {
     "name": "#%% md\n"
    }
   },
   "source": [
    "### To implement Depth-first-search\n",
    "<div style=\"background:#F0FFFF;font-size:1em\">\n",
    "    <dl>\n",
    "        <dt><b>SelectAndMoveFromOpenList()</b></dt>\n",
    "        <dd> my_index &larr; <b>GetLastIndex</b>(open_list)</dd>\n",
    "        <dd> the_candidate &larr; open_list(my_index)</dd>\n",
    "        <dd> <b>RemoveFromOpenList</b>(my_index)</dd>\n",
    "        <dd> <b>Return</b>(the_candidate)</dd>\n",
    "    </dl>\n",
    "    </div> "
   ]
  },
  {
   "cell_type": "code",
   "execution_count": 2,
   "metadata": {
    "ExecuteTime": {
     "end_time": "2024-03-12T10:28:45.184906700Z",
     "start_time": "2024-03-12T10:28:45.180950Z"
    },
    "pycharm": {
     "name": "#%%\n"
    },
    "tags": []
   },
   "outputs": [],
   "source": [
    "import copy\n",
    "import importlib\n",
    "\n",
    "from problem import Problem\n",
    "from candidatesolution import CandidateSolution\n",
    "from singlemembersearch import SingleMemberSearch\n",
    "\n",
    "\n",
    "class DepthFirstSearch(SingleMemberSearch):\n",
    "    \"\"\"your implementation of depth first search to extend\n",
    "    the superclass SingleMemberSearch search.\n",
    "    Adds  a __str__method\n",
    "    Over-rides the method select_and_move_from_openlist\n",
    "    to implement the algorithm\n",
    "    \"\"\"\n",
    "\n",
    "    def __str__(self):\n",
    "        return \"depth-first\"\n",
    "\n",
    "    def select_and_move_from_openlist(self) -> CandidateSolution:\n",
    "        \"\"\"void in superclass\n",
    "        In sub-classes should implement different algorithms\n",
    "        depending on what item it picks from open_list\n",
    "        and what it then does to the open list\n",
    "\n",
    "        Returns\n",
    "        -------\n",
    "        next working candidate (solution) taken from open list\n",
    "        \"\"\"\n",
    "       \n",
    "        next_soln = CandidateSolution()\n",
    "        # =======>> INSERT YOUR PSEUDO-CODE and your code below <<====n\n",
    "        next_soln = self.open_list.pop()\n",
    "\n",
    "        return next_soln"
   ]
  },
  {
   "cell_type": "code",
   "execution_count": 3,
   "metadata": {
    "ExecuteTime": {
     "end_time": "2024-03-12T10:28:46.779274300Z",
     "start_time": "2024-03-12T10:28:45.187850500Z"
    },
    "pycharm": {
     "name": "#%%\n"
    },
    "tags": []
   },
   "outputs": [
    {
     "name": "stdout",
     "output_type": "stream",
     "text": [
      "testing behaviour for puzzle [0, 0, 0, 0]\n",
      "passed test1\n",
      "testing behaviour for puzzle [0, 0, 0, 9]\n",
      "passed test2\n",
      "testing behaviour for puzzle [1, 0, 0, 9]\n",
      "passed test3\n",
      "testing behaviour for puzzle [9, 9, 9, 9]\n",
      "passed test4\n",
      "testing behaviour for puzzle [5, 5, 5, 5]\n",
      "passed test5\n",
      "passed all tests\n"
     ]
    }
   ],
   "source": [
    "from combinationproblem import CombinationProblem\n",
    "\n",
    "\n",
    "def test_depthfirst_combination():\n",
    "    \"\"\"tests that depth first search works as expected\n",
    "    on a combination lock problem by fixing the puzzle\n",
    "    \"\"\"\n",
    "\n",
    "    # Dictionary. Key= test name, value= tuple[combination, expected_attempts]\n",
    "    deptests = {\n",
    "        \"test1\": [[0, 0, 0, 0], 1],\n",
    "        \"test2\": [[0, 0, 0, 9], 37],\n",
    "        \"test3\": [[1, 0, 0, 9], 38],\n",
    "        \"test4\": [[9, 9, 9, 9], 2052],\n",
    "        \"test5\": [[5, 5, 5, 5], 5988],\n",
    "    }\n",
    "\n",
    "    for key, val in deptests.items():  # for each test\n",
    "        # make combination lock problem\n",
    "        myproblem = CombinationProblem(tumblers=4, num_options=10)\n",
    "        # change answer to specified combination\n",
    "        myproblem.answer = val[0]\n",
    "        expected = val[1]\n",
    "        print(f\"testing behaviour for puzzle {myproblem.answer}\")\n",
    "\n",
    "        # make then call search process from your code\n",
    "        mysearch = DepthFirstSearch(myproblem, max_attempts=10000)\n",
    "        found = mysearch.run_search()\n",
    "        # test results are what they should be\n",
    "        assert found, f\"should be able to solve {val[0]}\"\n",
    "        errorstring = f\"should take {expected} attempts not {mysearch.trials}\"\n",
    "        assert mysearch.trials == expected, errorstring\n",
    "        print(f\"passed {key}\")\n",
    "\n",
    "    print(\"passed all tests\")\n",
    "\n",
    "\n",
    "# call the test function\n",
    "test_depthfirst_combination()"
   ]
  },
  {
   "cell_type": "markdown",
   "metadata": {
    "pycharm": {
     "name": "#%% md\n"
    },
    "tags": []
   },
   "source": [
    "<div class = \"alert alert-warning\" style=\"color:black\">\n",
    "    <h2> Activity 2: Implementing Breadth-First search.</h2>\n",
    "    <ol>\n",
    "        <li> Complete the first code cell below to create a class <b>BreadthFirstSearch</b>\n",
    "            that implements the pseudo-code provided<ul>\n",
    "            <li>Start by copying the pseudo-code into the method as comments.</li>\n",
    "            <li>Then insert one or two lines of code to implement each comment</li>\n",
    "        </ul>\n",
    "        </li> \n",
    "        <li> Run the second code cell below to test that your code works as expected.</li>\n",
    "        <li> When you code passes all of the tests provided, read the code for the method <b>CombinationLock.evaluate()</b>. <br>Then  answer the multiple choice questions  about how thorough the testing process is.</li>\n",
    "    </ol>\n",
    "</div>"
   ]
  },
  {
   "cell_type": "markdown",
   "metadata": {
    "pycharm": {
     "name": "#%% md\n"
    },
    "tags": []
   },
   "source": [
    "### Pseudocode for Breadth-first-search\n",
    "<div style=\"background:#F0FFFF;font-size:1em\">\n",
    "    <dl>\n",
    "        <dt><b>SelectAndMoveFromOpenList()</b></dt>\n",
    "        <dd> my_index &larr; <b>GetFirstIndex</b>(open_list)</dd>\n",
    "        <dd> the_candidate &larr; open_list(my_index)</dd>\n",
    "        <dd> <b>RemoveFromOpenList</b>(my_index)</dd>\n",
    "        <dd> <b>Return</b>(the_candidate)</dd>\n",
    "    </dl>\n",
    "    </div> "
   ]
  },
  {
   "cell_type": "code",
   "execution_count": 4,
   "metadata": {
    "ExecuteTime": {
     "end_time": "2024-03-12T10:28:46.780378900Z",
     "start_time": "2024-03-12T10:28:46.776868500Z"
    },
    "pycharm": {
     "name": "#%%\n"
    },
    "tags": []
   },
   "outputs": [],
   "source": [
    "class BreadthFirstSearch(SingleMemberSearch):\n",
    "    \"\"\"your implementation of depth first search to extend\n",
    "    the superclass SingleMemberSearch search.\n",
    "    Adds  a __str__method\n",
    "    Over-rides the method select_and_move_from_openlist\n",
    "    to implement the algorithm\n",
    "    \"\"\"\n",
    "\n",
    "    def __str__(self):\n",
    "        return \"breadth-first\"\n",
    "\n",
    "    def select_and_move_from_openlist(self) -> CandidateSolution:\n",
    "        \"\"\"Implements the breadth-first search algorithm\n",
    "\n",
    "        Returns\n",
    "        -------\n",
    "        next working candidate (solution) taken from open list\n",
    "        \"\"\"\n",
    "\n",
    "        next_soln = CandidateSolution()\n",
    "        # =====> INSERT YOUR PSEUDO-CODE and your code here\n",
    "        # =====>to implement the algorithm from the cell above\n",
    "        next_soln = self.open_list.pop(0)\n",
    "        return next_soln"
   ]
  },
  {
   "cell_type": "code",
   "execution_count": 5,
   "metadata": {
    "ExecuteTime": {
     "end_time": "2024-03-12T10:29:32.044731300Z",
     "start_time": "2024-03-12T10:28:46.780378900Z"
    },
    "pycharm": {
     "name": "#%%\n"
    },
    "tags": []
   },
   "outputs": [
    {
     "name": "stdout",
     "output_type": "stream",
     "text": [
      "testing behaviour for puzzle [0, 0, 0, 0]\n",
      "passed test1\n",
      "testing behaviour for puzzle [0, 0, 0, 9]\n",
      "passed test2\n",
      "testing behaviour for puzzle [1, 0, 0, 9]\n",
      "passed test3\n",
      "testing behaviour for puzzle [9, 9, 9, 9]\n",
      "passed test4\n",
      "testing behaviour for puzzle [5, 5, 5, 5]\n",
      "passed test5\n",
      "passed all tests\n"
     ]
    }
   ],
   "source": [
    "def test_breadthfirst_combination():\n",
    "    \"\"\"tests that depth first search works as expected\n",
    "    on a combination lock problem by fixing the puzzle\n",
    "    \"\"\"\n",
    "    print_runlog = False  # you might want to turn this on for debugging\n",
    "\n",
    "    bretests = {\n",
    "        \"test1\": [[0, 0, 0, 0], 1],\n",
    "        \"test2\": [[0, 0, 0, 9], 37],\n",
    "        \"test3\": [[1, 0, 0, 9], 64],\n",
    "        \"test4\": [[9, 9, 9, 9], 10000],\n",
    "        \"test5\": [[5, 5, 5, 5], 6720],\n",
    "    }\n",
    "\n",
    "    for key, val in bretests.items():\n",
    "        myproblem = CombinationProblem(tumblers=4, num_options=10)\n",
    "        myproblem.answer = val[0]\n",
    "        expected = val[1]\n",
    "        print(f\"testing behaviour for puzzle {myproblem.answer}\")\n",
    "        mysearch = BreadthFirstSearch(myproblem, max_attempts=10000)\n",
    "        found = mysearch.run_search()\n",
    "\n",
    "        if print_runlog:  # in case you need to debug your code\n",
    "            print(mysearch.runlog)\n",
    "        assert found, f\"should be able to solve {val[0]}\"\n",
    "        assert (\n",
    "            mysearch.trials == expected\n",
    "        ), f\"should take {expected} attempts not {mysearch.trials}\"\n",
    "        print(f\"passed {key}\")\n",
    "    print(\"passed all tests\")\n",
    "\n",
    "\n",
    "test_breadthfirst_combination()"
   ]
  },
  {
   "cell_type": "code",
   "execution_count": 6,
   "metadata": {
    "ExecuteTime": {
     "end_time": "2024-03-12T10:29:32.076482600Z",
     "start_time": "2024-03-12T10:29:32.044731300Z"
    },
    "pycharm": {
     "name": "#%%\n"
    },
    "tags": []
   },
   "outputs": [
    {
     "ename": "NameError",
     "evalue": "name 'wb2' is not defined",
     "output_type": "error",
     "traceback": [
      "\u001b[1;31m---------------------------------------------------------------------------\u001b[0m",
      "\u001b[1;31mNameError\u001b[0m                                 Traceback (most recent call last)",
      "Cell \u001b[1;32mIn[6], line 2\u001b[0m\n\u001b[0;32m      1\u001b[0m \u001b[38;5;66;03m# Run this cell to display some qiestion about the testing process\u001b[39;00m\n\u001b[1;32m----> 2\u001b[0m display(\u001b[43mwb2\u001b[49m\u001b[38;5;241m.\u001b[39mq3)\n\u001b[0;32m      3\u001b[0m display(wb2\u001b[38;5;241m.\u001b[39mq4)\n",
      "\u001b[1;31mNameError\u001b[0m: name 'wb2' is not defined"
     ]
    }
   ],
   "source": [
    "# Run this cell to display some qiestion about the testing process\n",
    "display(wb2.q3)\n",
    "display(wb2.q4)"
   ]
  },
  {
   "cell_type": "markdown",
   "metadata": {
    "pycharm": {
     "name": "#%% md\n"
    }
   },
   "source": [
    "# Part Two: "
   ]
  },
  {
   "cell_type": "markdown",
   "metadata": {
    "pycharm": {
     "name": "#%% md\n"
    },
    "tags": []
   },
   "source": [
    "<div class = \"alert alert-warning\" style=\"color:black\">\n",
    "    <h2> Activity 3: Comparing  search algorithms for the fox-grain-chicken problem.</h2>\n",
    "    <h3> Which uses them in the <i>constructive</i> mode</h3>\n",
    "    <ol>\n",
    "        <li> Read the problem statement and design descriptions for the implementation in the three markdown cells below.</li>\n",
    "        <li>You are provided with a python class <b>FoxChickenGrain</b>\n",
    "            <ul>\n",
    "                <li> Without reading the source code file, run the first code cell below</li>\n",
    "                <li> This demonstrates how python's <b>help()</b> system picks up docstrings.</li>\n",
    "                <li> Then open the file <i>foxchickengrain.py</i> to see where the help messages are coming from</li>\n",
    "                <li> I've used numpy style docstrings. There are a few alternatives</li>\n",
    "                <li> The point is to realise that well written code should be self-documenting to help other people use it.</li>\n",
    "            </ul>\n",
    "        </li>\n",
    "        <li> Predict whether you think depth-first and  and breadth-first search will  find a solution or not.<br>\n",
    "            Be honest and write this down (with a reason) <b>before</b> you run the algorithm</li>\n",
    "        <li> Then run the code cell and see if your predictions were correct</li>  \n",
    "        <li> Finally answer the four multiple choice questions in the following cell. <br>\n",
    "            You may need to alter the value of the variable maxIterations to satisfy yourself about the answers.</li>\n",
    "    </ol>\n",
    "    <h3>Notice how we are re-purposing the classes you created for another problem without any extra work!</h3>\n",
    "</div>"
   ]
  },
  {
   "cell_type": "markdown",
   "metadata": {
    "pycharm": {
     "name": "#%% md\n"
    },
    "tags": []
   },
   "source": [
    "### Problem Statement: The fox-chicken-grain problem \n",
    "- You have a fox, a chicken and a sack of grain.  \n",
    "- You must cross a river with only one of them at a time.\n",
    "- If you leave the fox with the chicken he will eat it;\n",
    "- If you leave the chicken with the grain he will eat it.\n",
    "\n",
    "Can you get all three across safely in less than ten moves?\n",
    "\n"
   ]
  },
  {
   "cell_type": "markdown",
   "metadata": {
    "pycharm": {
     "name": "#%% md\n"
    },
    "tags": []
   },
   "source": [
    "### Design Statement for fox-chicken-grain problem<img src = \"figures/fox-chicken-grain-partial-graph.png\" style = \"float:right\" width=25%>\n",
    "\n",
    "There are 8 moves in total {nothing,fox,chicken,grain} X {bank1to2, bank2to1}\n",
    "- so ```FoxChickenGrain.value_set``` = [0,1,2,3,4,5,6,7]\n",
    "- in general, a candidate solution may have one or more moves, not a fixed number\n",
    "- so we encode ```FoxChickenGrain.numdecisions= -1``` \n",
    "\n",
    "Therefore : ```CandidateSolution.variableValues``` \n",
    "- is a list of values, each coming from [0,...7]\n",
    "- **encodes** a sequence of moves\n",
    "\n",
    "```FoxChickenGrain.evaluate(attempt)``` decodes the sequence of moves \n",
    "- starting from state(0,0,0,0)\n",
    "- it decodes then applies the move referenced in variableValues[0] to get next state\n",
    "  - if move can't be applied do nothing and leave state unchanged\n",
    "  - else if next state in forbidden list return INFEASIBLE (-1)\n",
    "  - else if next state = (1,1,1,1) return SUCCESS (1)\n",
    "  - else get and apply next move\n",
    "- The method returns\n",
    "   - -1 (infeasible),\n",
    "   - 0 (ok but doesn't reach goal) or \n",
    "   - 1 (reaches goal)"
   ]
  },
  {
   "cell_type": "markdown",
   "metadata": {
    "pycharm": {
     "name": "#%% md\n"
    },
    "tags": []
   },
   "source": [
    "### Design Choices for ApplyMoveOperator() on Foreach(1-step neighbour) loop;\n",
    "1. **perturbative** (use *fixed number of d* moves):  \n",
    "  nested loop through each position (1...n) and value (0...7) changing  a specific move to the new value\n",
    "  - i.e. each solution has *d* moves and 7d neighbours (7 different values in d different position)\n",
    "  - **This relies** on:\n",
    "    1. ```FoxChickenGrain.evaluate(attempt)``` stopping as soon as it gets to the goal  \n",
    "    Which could be a dangerous assumption\n",
    "    2. Setting a value for *d* which is not:\n",
    "       - too low to find a solution. \n",
    "       - too high, so we waste time changing the end of long sequences that are never reached\n",
    "       - **Question** do we have background knowledge to know what a suitable value for *d* is?\n",
    "    3. Being able to specify a valid starting point which has a sequence of valid neighbours\n",
    "      - This is getting really far from the idea of reusable code that we can apply quickly to solve any problem\n",
    "      - **So this is not a good design choice if we want to get something implemented quickly**\n",
    "  \n",
    "2. **constructive**: Each time around the main search loop we create neighbours which **add** moves to the existing solution  \n",
    "  - i.e.  each solution with *d* moves has  8 neighbours, all with *d+1* moves\n",
    "  - Avoids most of the problems with perturbative in this case\n",
    "  - But what about potential loops?"
   ]
  },
  {
   "cell_type": "code",
   "execution_count": null,
   "metadata": {
    "ExecuteTime": {
     "end_time": "2024-03-12T10:29:32.140036100Z",
     "start_time": "2024-03-12T10:29:32.062080Z"
    },
    "pycharm": {
     "name": "#%%\n"
    },
    "tags": []
   },
   "outputs": [],
   "source": [
    "# run this cell to import libraries and utilities\n",
    "from foxchickengrain import FoxChickenGrain\n",
    "\n",
    "help(FoxChickenGrain)"
   ]
  },
  {
   "cell_type": "markdown",
   "metadata": {
    "pycharm": {
     "name": "#%% md\n"
    }
   },
   "source": [
    "### Run the cell below to compare how your algorithms do\n",
    "- 500 attempts *should* be enough to test whether your algorithms behave as you expected\n",
    "- but you can change it if you like\n",
    "- I've provided the option to print the runlog from the search process.   \n",
    "  This can be instructive, but gets quite long"
   ]
  },
  {
   "cell_type": "code",
   "execution_count": null,
   "metadata": {
    "ExecuteTime": {
     "end_time": "2024-03-12T10:29:32.250041300Z",
     "start_time": "2024-03-12T10:29:32.079421Z"
    },
    "pycharm": {
     "name": "#%%\n"
    },
    "tags": []
   },
   "outputs": [],
   "source": [
    "from foxchickengrain import FoxChickenGrain\n",
    "\n",
    "myproblem = FoxChickenGrain()\n",
    "\n",
    "my_depth_search = DepthFirstSearch(myproblem, constructive=True, max_attempts=500)\n",
    "my_breadth_search = BreadthFirstSearch(myproblem, constructive=True, max_attempts=500)\n",
    "\n",
    "print_runlog = False  # you might want to turn this on for debugging\n",
    "\n",
    "for algorithm in (my_depth_search, my_breadth_search):\n",
    "    print(f\"\\nUsing the algorithm {algorithm.__str__()}\")\n",
    "    found = algorithm.run_search()\n",
    "    if found:\n",
    "        print(\n",
    "            f\"\\tsolved after {algorithm.trials} attempts:\\n\"\n",
    "            f\"\\tsolution is{myproblem.display(algorithm.result)}\"\n",
    "        )\n",
    "    else:\n",
    "        print(\"\\tproblem not solved in time allowed\")\n",
    "        if print_runlog:\n",
    "            print(algorithm.runlog)"
   ]
  },
  {
   "cell_type": "code",
   "execution_count": null,
   "metadata": {
    "ExecuteTime": {
     "end_time": "2024-03-12T10:29:32.281625Z",
     "start_time": "2024-03-12T10:29:32.202499200Z"
    },
    "pycharm": {
     "name": "#%%\n"
    },
    "tags": []
   },
   "outputs": [],
   "source": [
    "# Run this cell to display some questions about how you think different algorithms will behave on this problem\n",
    "display(wb2.q5)\n",
    "display(wb2.q6)\n",
    "display(wb2.q7)\n",
    "display(wb2.q8)\n",
    "display(wb2.q9)"
   ]
  },
  {
   "cell_type": "markdown",
   "metadata": {
    "pycharm": {
     "name": "#%% md\n"
    }
   },
   "source": [
    "<div class = \"alert alert-warning\" style=\"color:black\">\n",
    "    <h2>Activity 4: Restricting Depth Search to solve fox-chicken-grain.</h2>\n",
    "    The idea of this activity is to produce a version of depth-first search which stops looking beyond a certain depth.<ul>\n",
    "        <li> We want the maximum depth allowed to be a parameter we can change to find the minimum value.</li>\n",
    "        <li> We will do this by using inheritance and over-riding.<br> By producing a new class where we change the method <b>update_working_memory()</b>.</li>\n",
    "    </ul>\n",
    "    Follow the steps below to produce and test your new class.<ol>\n",
    "    <li> In the cell below copy your code for the class <b>DepthFirstSearch</b> that you wrote and tested in Activity 1.</li>\n",
    "    <li> Rename the class to <b>RestrictedDepthFirstSearch</b></li>\n",
    "    <li> Add a new parameter self.max_depth. You have two choices about how you do this:<ul>\n",
    "        <li> <b>\"Quick and dirty\"</b>. Create the variable <i>self.max_depth=10</i> inside  <b>update_working_memory()</b> during the next step.<br>\n",
    "            This will achieve the aim, but means you will have to edit the class code to change the value.</li>\n",
    "        <li> <b>\"Better style but more work\"</b>: Copy code from the super class to over-ride the <b>__init__()</b> method.<br>\n",
    "            Add a parameter <i>max_depth</i> with a default value 10 and store this in <i>self.max_depth</i><br>\n",
    "            You will need to call the superclass init function <b>self.super().__init__()</b><br> passing it all of the other parameters.<br>\n",
    "        This way means that you can change the max_depth at run time without having to change your class definition</li></ul>\n",
    "    <li> Now copy-paste the method <b>update_working_memory()</b> from the super-class in singlemembersearch.py. <br>\n",
    "        Remember to get the indentation right so it is a method of your new class!</li>\n",
    "    <li> The last step is to edit the code which decides whether to put a neighbour on the open_list.<br>\n",
    "        You need to add a condition that it only adds neighbours below your chosen size, <br>\n",
    "        which means the length of the list <i>variable_values</i> is less than <i>self.max_depth</i>.</li>\n",
    "        <li>When you have edited your code, run the second code cell to test it out.</li>\n",
    "        <li> Finally experiment with different settings of <i>max_depth</i> to answer the multiple choice questions.</li>\n",
    "        </ol>\n",
    "</div>"
   ]
  },
  {
   "cell_type": "code",
   "execution_count": null,
   "metadata": {
    "ExecuteTime": {
     "end_time": "2024-03-12T11:09:32.921180400Z",
     "start_time": "2024-03-12T11:09:32.910275500Z"
    },
    "pycharm": {
     "name": "#%%\n"
    }
   },
   "outputs": [],
   "source": [
    "# copy your depth-first search class code in here and rename the class\n",
    "# then the method ```update_working_memory()```\n",
    "# then edit that method to produce your new class\n",
    "class RestrictedDepthFirstSearch(SingleMemberSearch):\n",
    "    \"\"\"your implementation of depth first search to extend\n",
    "    the superclass SingleMemberSearch search.\n",
    "    Adds  a __str__method\n",
    "    Over-rides the method select_and_move_from_openlist\n",
    "    to implement the algorithm\n",
    "    \"\"\"\n",
    "    \n",
    "    def __init__(\n",
    "        self,\n",
    "        problem: Problem,\n",
    "        constructive: bool = False,\n",
    "        max_attempts: int = 50,\n",
    "        minimise=True,\n",
    "        target_quality=1,\n",
    "        max_depth: int = 10\n",
    "    ):\n",
    "        super().__init__(problem,constructive,max_attempts,minimise, target_quality)\n",
    "        self.max_depth = max_depth\n",
    "        \n",
    "    def __str__(self):\n",
    "        return \"depth-first\"\n",
    "\n",
    "    \n",
    "    def update_working_memory(self, neighbour: CandidateSolution): \n",
    "        if neighbour.quality == 1:\n",
    "            self.result = neighbour.variable_values\n",
    "            self.solved = True\n",
    "\n",
    "        # PS ELSE IF status IS BREAKS_CONSTRAINTS THEN\n",
    "        elif neighbour.reason != \"\":\n",
    "            self.runlog += (\n",
    "            f\"discarding invalid solution {neighbour.variable_values} \"\n",
    "            f\"because    {neighbour.reason}\\n\"\n",
    "            )\n",
    "            # PS AppendToClosedList(neighbour)\n",
    "            self.closed_list.append(neighbour)\n",
    "\n",
    "        # PS ELSE AppendToOpenList(neighbour)\n",
    "        elif len(neighbour.variable_values) < self.max_depth :\n",
    "            self.runlog += (\n",
    "            \"adding solution to openlist\"\n",
    "            f\": to examine later: {neighbour.variable_values}\\t\"\n",
    "            f\" quality {neighbour.quality}\\n\"\n",
    "        )\n",
    "            self.open_list.append(neighbour)\n",
    "    def select_and_move_from_openlist(self) -> CandidateSolution:\n",
    "        \"\"\"void in superclass\n",
    "        In sub-classes should implement different algorithms\n",
    "        depending on what item it picks from open_list\n",
    "        and what it then does to the open list\n",
    "\n",
    "        Returns\n",
    "        -------\n",
    "        next working candidate (solution) taken from open list\n",
    "        \"\"\"\n",
    "       \n",
    "    \n",
    "        next_soln = self.open_list.pop()\n",
    "\n",
    "        return next_soln\n",
    "\n",
    "        "
   ]
  },
  {
   "cell_type": "code",
   "execution_count": null,
   "metadata": {
    "ExecuteTime": {
     "end_time": "2024-03-12T11:09:33.680441500Z",
     "start_time": "2024-03-12T11:09:33.668519500Z"
    },
    "pycharm": {
     "name": "#%%\n"
    },
    "tags": []
   },
   "outputs": [],
   "source": [
    "\n",
    "\n",
    "# Run the search\n",
    "myproblem = FoxChickenGrain()\n",
    "mysearch = RestrictedDepthFirstSearch(\n",
    "    myproblem,\n",
    "    constructive=True,\n",
    "    max_attempts=1000,\n",
    "    target_quality=1,\n",
    "    max_depth=10\n",
    ")\n",
    "found = mysearch.run_search()\n",
    "\n",
    "# Display the result\n",
    "if found:\n",
    "    print(\n",
    "        f\"Search to a maximum depth of {mysearch.max_depth} moves,\\n\"\n",
    "        f\"Solved after {mysearch.trials} attempts:\\n\"\n",
    "        f\"Solution is: {myproblem.display(mysearch.result)}\"\n",
    "    )\n",
    "else:\n",
    "    print(\"Search failed to find a solution.\")\n"
   ]
  },
  {
   "cell_type": "code",
   "execution_count": null,
   "metadata": {
    "ExecuteTime": {
     "end_time": "2024-03-12T10:42:53.976135500Z",
     "start_time": "2024-03-12T10:42:53.949570900Z"
    },
    "pycharm": {
     "name": "#%%\n"
    }
   },
   "outputs": [],
   "source": [
    "display(wb2.q10)\n",
    "display(wb2.q11)"
   ]
  },
  {
   "cell_type": "markdown",
   "metadata": {
    "pycharm": {
     "name": "#%% md\n"
    }
   },
   "source": [
    "<div class=\"alert alert-warning\" style=\"color:black\">\n",
    "<h2>Activity 5 (stretch): Investigate the time and space (memory) requirements of your two methods</h2>\n",
    "    <p> You should now have working versions of both breadth-first and (restricted) depth-first search.<br>\n",
    "    They already store the number of attempts tested (a measure of runtime), and the code cells that run them print that value out.<br>\n",
    "    The next step is to compare memory - which is proportional to the maximum size of the open list.</p> \n",
    "    <p>Edit your code for both classes:<ol>\n",
    "    <li> Copy-paste <b>update_working_memory()</b> into your <b>BreadthFirstSearch</b> class</li>\n",
    "    <li> Create a variable called <i>self.max_memory</i>  initialised to 0<br>\n",
    "        As above, better style to do it in <b>__init__()</b><br>\n",
    "        but for simplicity  you could do it inside <b>update)_working_memory()</b>.</li>\n",
    "    <li> Edit that method in both your classes, adding code to:<ul>\n",
    "        <li>check the length of the openlist against <i>self.max_memory</i></li>\n",
    "        <li> update the value of <i>self.max_memory</i> if the open list has increased in size.</li>\n",
    "        </ul>\n",
    "    <li> Copy-paste the testing code from the cells above, then adapt it to test the time and memory needs of your algorithms.</li> \n",
    "    </ol>\n",
    "   </p>\n",
    "    </div>"
   ]
  },
  {
   "cell_type": "code",
   "execution_count": null,
   "metadata": {
    "ExecuteTime": {
     "end_time": "2024-03-12T11:14:47.718237200Z",
     "start_time": "2024-03-12T11:14:47.707339200Z"
    },
    "pycharm": {
     "name": "#%%\n"
    }
   },
   "outputs": [],
   "source": [
    "# your experiment code here\n"
   ]
  },
  {
   "cell_type": "code",
   "execution_count": null,
   "metadata": {
    "ExecuteTime": {
     "end_time": "2024-03-12T11:14:48.392074700Z",
     "start_time": "2024-03-12T11:14:48.387793700Z"
    },
    "pycharm": {
     "name": "#%%\n"
    }
   },
   "outputs": [],
   "source": [
    "display(wb11.q12)\n",
    "display(wb11.q13)"
   ]
  },
  {
   "cell_type": "markdown",
   "metadata": {
    "pycharm": {
     "name": "#%% md\n"
    }
   },
   "source": [
    "<div class=\"alert alert-block alert-danger\"> Please save your work (click the save icon) then shutdown the notebook when you have finished with this tutorial (menu->file->close and shutdown notebook</div>\n",
    "\n",
    "<div class=\"alert alert-block alert-danger\"> Remember to download and save your work if you are not running this notebook locally.</div>"
   ]
  },
  {
   "cell_type": "code",
   "execution_count": null,
   "metadata": {
    "ExecuteTime": {
     "end_time": "2024-03-12T10:46:08.198544800Z",
     "start_time": "2024-03-12T10:46:08.184932800Z"
    }
   },
   "outputs": [],
   "source": []
  },
  {
   "cell_type": "code",
   "execution_count": null,
   "metadata": {
    "ExecuteTime": {
     "end_time": "2024-03-12T10:46:09.172672200Z",
     "start_time": "2024-03-12T10:46:09.150993700Z"
    },
    "collapsed": false,
    "jupyter": {
     "outputs_hidden": false
    }
   },
   "outputs": [],
   "source": []
  },
  {
   "cell_type": "code",
   "execution_count": null,
   "metadata": {
    "collapsed": false,
    "jupyter": {
     "outputs_hidden": false
    }
   },
   "outputs": [],
   "source": []
  }
 ],
 "metadata": {
  "kernelspec": {
   "display_name": "Python 3 (ipykernel)",
   "language": "python",
   "name": "python3"
  },
  "language_info": {
   "codemirror_mode": {
    "name": "ipython",
    "version": 3
   },
   "file_extension": ".py",
   "mimetype": "text/x-python",
   "name": "python",
   "nbconvert_exporter": "python",
   "pygments_lexer": "ipython3",
   "version": "3.12.1"
  }
 },
 "nbformat": 4,
 "nbformat_minor": 4
}
